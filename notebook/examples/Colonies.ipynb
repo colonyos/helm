{
 "cells": [
  {
   "cell_type": "code",
   "execution_count": 45,
   "id": "99201174-f5d3-46e6-951b-bd924491d87d",
   "metadata": {},
   "outputs": [
    {
     "name": "stdout",
     "output_type": "stream",
     "text": [
      "colonies_server: colonies.colonyos.io\n",
      "colonies_port: 443\n",
      "colonyid: 93975de0d2050dfe5ed81d028be250754f633bf2eef9f76db4f3e61b5c950d9c\n",
      "colony_prvkey: c552e7f91157c1c5b30c84e8b26ef20f44f1f15f3c95454740b6e9ce59e05807\n",
      "executorid: c23c6d70e490e90a60347bb89d04832814f6a2f74b38bd1bdffbda1f7c34e687\n",
      "executor_prvkey: 8aed8333fe1e18cb47f4a59482f3f8e6bbec69079f2b6db61a72d8b174bcb133\n"
     ]
    }
   ],
   "source": [
    "import os\n",
    "\n",
    "from pycolonies import Colonies\n",
    "from pycolonies import func_spec\n",
    "\n",
    "colonies_server = os.getenv(\"COLONIES_SERVER_HOST\")\n",
    "colonies_port = os.getenv(\"COLONIES_SERVER_PORT\")\n",
    "colonies_tls = os.getenv(\"COLONIES_SERVER_TLS\")\n",
    "colonyid = os.getenv(\"COLONIES_COLONY_ID\")\n",
    "colony_prvkey = os.getenv(\"COLONIES_COLONY_PRVKEY\")\n",
    "executorid = os.getenv(\"COLONIES_EXECUTOR_ID\")\n",
    "executor_prvkey = os.getenv(\"COLONIES_EXECUTOR_PRVKEY\")\n",
    "\n",
    "print(\"colonies_server:\", colonies_server)\n",
    "print(\"colonies_port:\", colonies_port)\n",
    "print(\"colonyid:\", colonyid)\n",
    "print(\"colony_prvkey:\", colony_prvkey)\n",
    "print(\"executorid:\", executorid)\n",
    "print(\"executor_prvkey:\", executor_prvkey)\n",
    "\n",
    "if colonies_tls == \"true\":\n",
    "  colonies = Colonies(colonies_server, colonies_port, True)\n",
    "else:\n",
    "  colonies = Colonies(colonies_server, colonies_port, False)"
   ]
  },
  {
   "cell_type": "code",
   "execution_count": 65,
   "id": "9927f8ac-c711-422d-a8f1-7ea5ecdb4f64",
   "metadata": {},
   "outputs": [
    {
     "data": {
      "text/plain": [
       "[{'executorid': 'c23c6d70e490e90a60347bb89d04832814f6a2f74b38bd1bdffbda1f7c34e687',\n",
       "  'executortype': 'cli',\n",
       "  'executorname': 'cli',\n",
       "  'colonyid': '93975de0d2050dfe5ed81d028be250754f633bf2eef9f76db4f3e61b5c950d9c',\n",
       "  'state': 1,\n",
       "  'requirefuncreg': False,\n",
       "  'commissiontime': '2023-07-30T15:16:41.477089+02:00',\n",
       "  'lastheardfromtime': '0001-01-01T00:53:28+00:53',\n",
       "  'location': {'long': 0, 'lat': 0}}]"
      ]
     },
     "execution_count": 65,
     "metadata": {},
     "output_type": "execute_result"
    }
   ],
   "source": [
    "colonies.list_executors(colonyid, executor_prvkey)"
   ]
  },
  {
   "cell_type": "code",
   "execution_count": 66,
   "id": "15b8e982-46c6-4fec-8c45-a122ea87cca0",
   "metadata": {},
   "outputs": [],
   "source": [
    "f = func_spec(func=\"execute\",\n",
    "              args=[],\n",
    "              kwargs={\n",
    "                \"sync\": [\"/exp1\", \"/source\", \"/output\"],\n",
    "                \"sync_dir\": \"/tmp/sync\",    \n",
    "                \"s3_url\":\"s3.colonyos.io:443\",\n",
    "                \"s3_bucket\":\"colonies\",\n",
    "                \"s3_accesskey\":\"hGi9unKnSuHeGwuOS3mo\",\n",
    "                \"s3_secretkey\":\"sdT56nOLDS7kUwxaztTHHLAzextZhKuAHcCxzziu\",\n",
    "                \"cmd\":\"python3\",\n",
    "                \"args\":[\"/tmp/sync/source/helloworld.py\"]\n",
    "              },\n",
    "              colonyid=colonyid,\n",
    "              executortype=\"ml\",\n",
    "              priority=0,\n",
    "              maxexectime=100,\n",
    "              maxretries=3,\n",
    "              maxwaittime=-1)\n",
    "\n",
    "process = colonies.submit(f, executor_prvkey)"
   ]
  },
  {
   "cell_type": "code",
   "execution_count": 68,
   "id": "04f7adb1-4d59-4ec2-8099-0db4bd671397",
   "metadata": {},
   "outputs": [
    {
     "name": "stdout",
     "output_type": "stream",
     "text": [
      "ewgweg\n",
      "helloworld\n",
      "\n"
     ]
    }
   ],
   "source": [
    "process = colonies.get_process(process[\"processid\"], executor_prvkey)\n",
    "print(process[\"out\"][0])"
   ]
  },
  {
   "cell_type": "code",
   "execution_count": 95,
   "id": "fa192459-8e9b-40ee-a6b6-bc620a19f0a7",
   "metadata": {},
   "outputs": [],
   "source": [
    "def tf_hello_world(ctx={}): \n",
    "    import tensorflow as tf\n",
    "    #hello = tf.constant(\"hello world\")\n",
    "    #a = str(hello.numpy())\n",
    "\n",
    "    a = tf.constant(2)\n",
    "    b = tf.constant(3)\n",
    "    c = tf.constant(5)\n",
    "\n",
    "    add = tf.add(a, b)\n",
    "    sub = tf.subtract(a, b)\n",
    "    mul = tf.multiply(a, b)\n",
    "    div = tf.divide(a, b)\n",
    "\n",
    "    print(\"add =\", add.numpy())\n",
    "    print(\"sub =\", sub.numpy())\n",
    "    print(\"mul =\", mul.numpy())\n",
    "    print(\"div =\", div.numpy())\n",
    "    return str(div.numpy())"
   ]
  },
  {
   "cell_type": "code",
   "execution_count": 96,
   "id": "e7b4059c-95bd-4ba2-aa23-0d50f29ac3da",
   "metadata": {},
   "outputs": [
    {
     "name": "stdout",
     "output_type": "stream",
     "text": [
      "add = 5\n",
      "sub = -1\n",
      "mul = 6\n",
      "div = 0.6666666666666666\n"
     ]
    },
    {
     "data": {
      "text/plain": [
       "'0.6666666666666666'"
      ]
     },
     "execution_count": 96,
     "metadata": {},
     "output_type": "execute_result"
    }
   ],
   "source": [
    "tf_hello_world()"
   ]
  },
  {
   "cell_type": "code",
   "execution_count": 97,
   "id": "7989873f-269c-4696-b63f-1914f0dfb595",
   "metadata": {},
   "outputs": [],
   "source": [
    "f = func_spec(func=tf_hello_world,\n",
    "              args=[],\n",
    "              colonyid=colonyid,\n",
    "              executortype=\"python\",\n",
    "              priority=200,\n",
    "              maxexectime=100,\n",
    "              maxretries=3,\n",
    "              maxwaittime=100)"
   ]
  },
  {
   "cell_type": "code",
   "execution_count": 98,
   "id": "0dd1b671-53b5-4dca-b502-18d2eceef959",
   "metadata": {},
   "outputs": [],
   "source": [
    "process = colonies.submit(f, executor_prvkey)"
   ]
  },
  {
   "cell_type": "code",
   "execution_count": 101,
   "id": "64710442-9aab-4632-b249-374c3d517966",
   "metadata": {},
   "outputs": [
    {
     "data": {
      "text/plain": [
       "{'processid': '6a39f49890e0cf3e824308c3349962aba7eb808ba4de883f0ae322b63d4fc506',\n",
       " 'assignedexecutorid': '8bf4d34b93cf6ef87ebf47d45ee576703f7df00ee8e0885b3f6564b359a94e43',\n",
       " 'isassigned': True,\n",
       " 'state': 2,\n",
       " 'prioritytime': 1673729610887135683,\n",
       " 'submissiontime': '2023-08-02T22:53:30.887136+02:00',\n",
       " 'starttime': '2023-08-02T22:53:30.896288+02:00',\n",
       " 'endtime': '2023-08-02T22:53:31.216407+02:00',\n",
       " 'waitdeadline': '2023-08-02T22:55:10.887136+02:00',\n",
       " 'execdeadline': '2023-08-02T22:55:10.896288+02:00',\n",
       " 'retries': 0,\n",
       " 'attributes': [{'attributeid': '46295b665143e40113a12246b4b969653ea5e0fc6218fce90aee53c410d11a0e',\n",
       "   'targetid': '6a39f49890e0cf3e824308c3349962aba7eb808ba4de883f0ae322b63d4fc506',\n",
       "   'targetcolonyid': '93975de0d2050dfe5ed81d028be250754f633bf2eef9f76db4f3e61b5c950d9c',\n",
       "   'targetprocessgraphid': '',\n",
       "   'state': 2,\n",
       "   'attributetype': 3,\n",
       "   'key': 'args_spec',\n",
       "   'value': 'ctx'},\n",
       "  {'attributeid': '66a062e1132da4f0592e3f22ad2abd8a1919a2890681fe10bd60272c90a90f84',\n",
       "   'targetid': '6a39f49890e0cf3e824308c3349962aba7eb808ba4de883f0ae322b63d4fc506',\n",
       "   'targetcolonyid': '93975de0d2050dfe5ed81d028be250754f633bf2eef9f76db4f3e61b5c950d9c',\n",
       "   'targetprocessgraphid': '',\n",
       "   'state': 2,\n",
       "   'attributetype': 3,\n",
       "   'key': 'code',\n",
       "   'value': 'ZGVmIHRmX2hlbGxvX3dvcmxkKGN0eD17fSk6IAogICAgaW1wb3J0IHRlbnNvcmZsb3cgYXMgdGYKICAgICNoZWxsbyA9IHRmLmNvbnN0YW50KCJoZWxsbyB3b3JsZCIpCiAgICAjYSA9IHN0cihoZWxsby5udW1weSgpKQoKICAgIGEgPSB0Zi5jb25zdGFudCgyKQogICAgYiA9IHRmLmNvbnN0YW50KDMpCiAgICBjID0gdGYuY29uc3RhbnQoNSkKCiAgICBhZGQgPSB0Zi5hZGQoYSwgYikKICAgIHN1YiA9IHRmLnN1YnRyYWN0KGEsIGIpCiAgICBtdWwgPSB0Zi5tdWx0aXBseShhLCBiKQogICAgZGl2ID0gdGYuZGl2aWRlKGEsIGIpCgogICAgcHJpbnQoImFkZCA9IiwgYWRkLm51bXB5KCkpCiAgICBwcmludCgic3ViID0iLCBzdWIubnVtcHkoKSkKICAgIHByaW50KCJtdWwgPSIsIG11bC5udW1weSgpKQogICAgcHJpbnQoImRpdiA9IiwgZGl2Lm51bXB5KCkpCiAgICByZXR1cm4gc3RyKGRpdi5udW1weSgpKQo='}],\n",
       " 'spec': {'nodename': 'tf_hello_world',\n",
       "  'funcname': 'tf_hello_world',\n",
       "  'args': [],\n",
       "  'kwargs': {},\n",
       "  'priority': 200,\n",
       "  'maxwaittime': 100,\n",
       "  'maxexectime': 100,\n",
       "  'maxretries': 3,\n",
       "  'conditions': {'colonyid': '93975de0d2050dfe5ed81d028be250754f633bf2eef9f76db4f3e61b5c950d9c',\n",
       "   'executorids': [],\n",
       "   'executortype': 'python',\n",
       "   'dependencies': []},\n",
       "  'label': '',\n",
       "  'env': {'args_spec': 'ctx',\n",
       "   'code': 'ZGVmIHRmX2hlbGxvX3dvcmxkKGN0eD17fSk6IAogICAgaW1wb3J0IHRlbnNvcmZsb3cgYXMgdGYKICAgICNoZWxsbyA9IHRmLmNvbnN0YW50KCJoZWxsbyB3b3JsZCIpCiAgICAjYSA9IHN0cihoZWxsby5udW1weSgpKQoKICAgIGEgPSB0Zi5jb25zdGFudCgyKQogICAgYiA9IHRmLmNvbnN0YW50KDMpCiAgICBjID0gdGYuY29uc3RhbnQoNSkKCiAgICBhZGQgPSB0Zi5hZGQoYSwgYikKICAgIHN1YiA9IHRmLnN1YnRyYWN0KGEsIGIpCiAgICBtdWwgPSB0Zi5tdWx0aXBseShhLCBiKQogICAgZGl2ID0gdGYuZGl2aWRlKGEsIGIpCgogICAgcHJpbnQoImFkZCA9IiwgYWRkLm51bXB5KCkpCiAgICBwcmludCgic3ViID0iLCBzdWIubnVtcHkoKSkKICAgIHByaW50KCJtdWwgPSIsIG11bC5udW1weSgpKQogICAgcHJpbnQoImRpdiA9IiwgZGl2Lm51bXB5KCkpCiAgICByZXR1cm4gc3RyKGRpdi5udW1weSgpKQo='}},\n",
       " 'waitforparents': False,\n",
       " 'parents': [],\n",
       " 'children': [],\n",
       " 'processgraphid': '',\n",
       " 'in': [],\n",
       " 'out': ['0.6666666666666666'],\n",
       " 'errors': []}"
      ]
     },
     "execution_count": 101,
     "metadata": {},
     "output_type": "execute_result"
    }
   ],
   "source": [
    "colonies.get_process(process[\"processid\"], executor_prvkey)"
   ]
  },
  {
   "cell_type": "code",
   "execution_count": 102,
   "id": "48a4cb28-1449-4adf-b849-0b72df8fac76",
   "metadata": {},
   "outputs": [
    {
     "ename": "SyntaxError",
     "evalue": "from __future__ imports must occur at the beginning of the file (321907479.py, line 2)",
     "output_type": "error",
     "traceback": [
      "\u001b[0;36m  Cell \u001b[0;32mIn[102], line 2\u001b[0;36m\u001b[0m\n\u001b[0;31m    from __future__ import absolute_import, division, print_function\u001b[0m\n\u001b[0m    ^\u001b[0m\n\u001b[0;31mSyntaxError\u001b[0m\u001b[0;31m:\u001b[0m from __future__ imports must occur at the beginning of the file\n"
     ]
    }
   ],
   "source": [
    "def tf_neural_network(ctx={}): \n",
    "    from __future__ import absolute_import, division, print_function\n",
    "    import tensorflow as tf\n",
    "    from tensorflow.keras import Model, layers\n",
    "    import numpy as np\n",
    "    num_classes = 10 # total classes (0-9 digits).\n",
    "    num_features = 784 # data features (img shape: 28*28).\n",
    "    learning_rate = 0.1\n",
    "    training_steps = 2000\n",
    "    batch_size = 256\n",
    "    display_step = 100\n",
    "    n_hidden_1 = 128 # 1st layer number of neurons.\n",
    "    n_hidden_2 = 256 # 2nd layer number of neurons.\n",
    "    from tensorflow.keras.datasets import mnist\n",
    "    (x_train, y_train), (x_test, y_test) = mnist.load_data()\n",
    "    # Convert to float32.\n",
    "    x_train, x_test = np.array(x_train, np.float32), np.array(x_test, np.float32)\n",
    "    # Flatten images to 1-D vector of 784 features (28*28).\n",
    "    x_train, x_test = x_train.reshape([-1, num_features]), x_test.reshape([-1, num_features])\n",
    "    # Normalize images value from [0, 255] to [0, 1].\n",
    "    x_train, x_test = x_train / 255., x_test / 255.\n",
    "    train_data = tf.data.Dataset.from_tensor_slices((x_train, y_train))\n",
    "    train_data = train_data.repeat().shuffle(5000).batch(batch_size).prefetch(1)\n",
    "\n",
    "    class NeuralNet(Model):\n",
    "        # Set layers.\n",
    "        def __init__(self):\n",
    "            super(NeuralNet, self).__init__()\n",
    "            # First fully-connected hidden layer.\n",
    "            self.fc1 = layers.Dense(n_hidden_1, activation=tf.nn.relu)\n",
    "            # First fully-connected hidden layer.\n",
    "            self.fc2 = layers.Dense(n_hidden_2, activation=tf.nn.relu)\n",
    "            # Second fully-connecter hidden layer.\n",
    "            self.out = layers.Dense(num_classes)\n",
    "\n",
    "        # Set forward pass.\n",
    "        def call(self, x, is_training=False):\n",
    "            x = self.fc1(x)\n",
    "            x = self.fc2(x)\n",
    "            x = self.out(x)\n",
    "            if not is_training:\n",
    "                # tf cross entropy expect logits without softmax, so only\n",
    "                # apply softmax when not training.\n",
    "                x = tf.nn.softmax(x)\n",
    "            return x\n",
    "    neural_net = NeuralNet()"
   ]
  },
  {
   "cell_type": "code",
   "execution_count": 76,
   "id": "4e043202-d0d5-4c1d-901f-411c0a63494b",
   "metadata": {},
   "outputs": [
    {
     "data": {
      "text/plain": [
       "24.0"
      ]
     },
     "execution_count": 76,
     "metadata": {},
     "output_type": "execute_result"
    }
   ],
   "source": [
    "86400000000000 / 10**9 / 60 / 60"
   ]
  },
  {
   "cell_type": "code",
   "execution_count": 72,
   "id": "eb31bfec-77c3-40fe-875c-9d8871cc1f15",
   "metadata": {},
   "outputs": [
    {
     "data": {
      "text/plain": [
       "1000000000"
      ]
     },
     "execution_count": 72,
     "metadata": {},
     "output_type": "execute_result"
    }
   ],
   "source": [
    "10**9"
   ]
  },
  {
   "cell_type": "code",
   "execution_count": 77,
   "id": "201eb059-70bb-450f-99d7-747920b36e95",
   "metadata": {},
   "outputs": [
    {
     "name": "stdout",
     "output_type": "stream",
     "text": [
      "Colonies CLI tool\n",
      "\n",
      "Usage:\n",
      "  colonies [command]\n",
      "\n",
      "Available Commands:\n",
      "  attribute   Manage process attributes\n",
      "  cluster     Manage clusters\n",
      "  colony      Manage colonies\n",
      "  completion  Generate the autocompletion script for the specified shell\n",
      "  cron        Manage cron\n",
      "  database    Manage internal database\n",
      "  dev         Start a development server\n",
      "  executor    Manage executors\n",
      "  function    Manage functions\n",
      "  generator   Manage generators\n",
      "  help        Help about any command\n",
      "  keychain    Manage private keys\n",
      "  monitor     Manage Prometheus monitoring\n",
      "  process     Manage processes\n",
      "  server      Manage production server\n",
      "  workflow    Manage workflows\n",
      "\n",
      "Flags:\n",
      "  -h, --help              help for colonies\n",
      "      --insecure          Disable TLS and use HTTP\n",
      "      --skip-tls-verify   Skip TLS certificate verification\n",
      "  -v, --verbose           Verbose (debugging)\n",
      "\n",
      "Use \"colonies [command] --help\" for more information about a command.\n"
     ]
    }
   ],
   "source": [
    "!colonies "
   ]
  },
  {
   "cell_type": "code",
   "execution_count": 78,
   "id": "11903571-26bc-4423-99ae-f19c369d793f",
   "metadata": {},
   "outputs": [
    {
     "name": "stdout",
     "output_type": "stream",
     "text": [
      "Error: unknown command \"fs\" for \"colonies\"\n",
      "Run 'colonies --help' for usage.\n",
      "unknown command \"fs\" for \"colonies\"\n"
     ]
    }
   ],
   "source": [
    "!colonies fs sync ./files --label --yes"
   ]
  },
  {
   "cell_type": "code",
   "execution_count": 79,
   "id": "c503cb17-bcac-45cb-a570-94f4ea76a4f3",
   "metadata": {},
   "outputs": [
    {
     "name": "stdout",
     "output_type": "stream",
     "text": [
      "Colonies.ipynb\tUntitled.ipynb\tUntitled1.ipynb  go\n"
     ]
    }
   ],
   "source": [
    "!ls "
   ]
  },
  {
   "cell_type": "code",
   "execution_count": null,
   "id": "7b806b9f-e8c9-40b0-a84f-dd16d42e9551",
   "metadata": {},
   "outputs": [],
   "source": []
  }
 ],
 "metadata": {
  "kernelspec": {
   "display_name": "Python 3 (ipykernel)",
   "language": "python",
   "name": "python3"
  },
  "language_info": {
   "codemirror_mode": {
    "name": "ipython",
    "version": 3
   },
   "file_extension": ".py",
   "mimetype": "text/x-python",
   "name": "python",
   "nbconvert_exporter": "python",
   "pygments_lexer": "ipython3",
   "version": "3.8.10"
  }
 },
 "nbformat": 4,
 "nbformat_minor": 5
}
